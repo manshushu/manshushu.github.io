{
 "cells": [
  {
   "cell_type": "code",
   "execution_count": 1,
   "metadata": {},
   "outputs": [],
   "source": [
    "import os\n",
    "from datetime import date, datetime"
   ]
  },
  {
   "cell_type": "code",
   "execution_count": 2,
   "metadata": {},
   "outputs": [],
   "source": [
    "today = date.today().strftime(\"%Y-%m-%d\")\n",
    "\n",
    "data_time = datetime.now().strftime(\"%Y-%m-%dT%H:%M:%S%z\")+'+08:00'\n",
    "\n",
    "tags = 'tags: [\"'+input('输入文章标签')+'\"]'\n",
    "\n",
    "categories = 'categories: [\"'+input('文章类别')+'\"]'"
   ]
  },
  {
   "cell_type": "code",
   "execution_count": 3,
   "metadata": {},
   "outputs": [],
   "source": [
    "# 创建文件夹和文件\n",
    "os.makedirs(\"posts/{}\".format(today))\n",
    "with open(\"posts/{}/index.md\".format(today), \"w\") as f:\n",
    "    # 写入hugo文件头内容\n",
    "    f.write('---\\n')\n",
    "    f.write('title: \\n')\n",
    "    f.write('date: {}\\n'.format(data_time))\n",
    "    f.write('draft: false\\n')\n",
    "    f.write('author: \"MAN\"\\n')\n",
    "    f.write(tags+'\\n')\n",
    "    f.write(categories+'\\n')\n",
    "    f.write('lightgallery: true\\n')\n",
    "    f.write('---\\n')\n",
    "\n"
   ]
  },
  {
   "cell_type": "code",
   "execution_count": 4,
   "metadata": {},
   "outputs": [],
   "source": [
    "# 打开Markdown文件\n",
    "# os.startfile(\"C:/Users/m0815/Downloads/my_blog/content/posts/{}/index.md\".format(today),'open','D:/Microsoft VS Code/Code.exe')"
   ]
  }
 ],
 "metadata": {
  "kernelspec": {
   "display_name": "base",
   "language": "python",
   "name": "python3"
  },
  "language_info": {
   "codemirror_mode": {
    "name": "ipython",
    "version": 3
   },
   "file_extension": ".py",
   "mimetype": "text/x-python",
   "name": "python",
   "nbconvert_exporter": "python",
   "pygments_lexer": "ipython3",
   "version": "3.9.12"
  },
  "orig_nbformat": 4
 },
 "nbformat": 4,
 "nbformat_minor": 2
}
